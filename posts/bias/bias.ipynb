{
 "cells": [
  {
   "cell_type": "markdown",
   "metadata": {},
   "source": [
    "---\n",
    "title: Auditing Bias\n",
    "author: Evan Flaks\n",
    "date: '2025-03-09'\n",
    "image: \"bias.jpeg\"\n",
    "description: \"Building a model that predicts employment status and auditing the model's racial bias\"\n",
    "format: html\n",
    "---"
   ]
  },
  {
   "cell_type": "markdown",
   "metadata": {},
   "source": [
    "# Abstract\n",
    "\n",
    "This project investigates the use of machine learning to predict employment status based on demographic and socioeconomic variables from the U.S. Census PUMS data. Using the folktables library, we sourced data from the state of Maryland and preprocessed it to extract relevant features. A Random Forest model was trained to classify employment status, and its performance was evaluated on the general Maryland population. Then, a bias audit was conducted to assess potential disparities in model predictions across different racial and demographic groups. The results highlight both the predictive capabilities of the model and the ethical concerns related to bias in employment predictions."
   ]
  },
  {
   "cell_type": "markdown",
   "metadata": {},
   "source": [
    "# Downloading Data\n",
    "\n",
    "First we will download some PUMS data from the state of Maryland using folktables. "
   ]
  },
  {
   "cell_type": "code",
   "execution_count": 320,
   "metadata": {},
   "outputs": [
    {
     "data": {
      "text/html": [
       "<div>\n",
       "<style scoped>\n",
       "    .dataframe tbody tr th:only-of-type {\n",
       "        vertical-align: middle;\n",
       "    }\n",
       "\n",
       "    .dataframe tbody tr th {\n",
       "        vertical-align: top;\n",
       "    }\n",
       "\n",
       "    .dataframe thead th {\n",
       "        text-align: right;\n",
       "    }\n",
       "</style>\n",
       "<table border=\"1\" class=\"dataframe\">\n",
       "  <thead>\n",
       "    <tr style=\"text-align: right;\">\n",
       "      <th></th>\n",
       "      <th>RT</th>\n",
       "      <th>SERIALNO</th>\n",
       "      <th>DIVISION</th>\n",
       "      <th>SPORDER</th>\n",
       "      <th>PUMA</th>\n",
       "      <th>REGION</th>\n",
       "      <th>STATE</th>\n",
       "      <th>ADJINC</th>\n",
       "      <th>PWGTP</th>\n",
       "      <th>AGEP</th>\n",
       "      <th>...</th>\n",
       "      <th>PWGTP71</th>\n",
       "      <th>PWGTP72</th>\n",
       "      <th>PWGTP73</th>\n",
       "      <th>PWGTP74</th>\n",
       "      <th>PWGTP75</th>\n",
       "      <th>PWGTP76</th>\n",
       "      <th>PWGTP77</th>\n",
       "      <th>PWGTP78</th>\n",
       "      <th>PWGTP79</th>\n",
       "      <th>PWGTP80</th>\n",
       "    </tr>\n",
       "  </thead>\n",
       "  <tbody>\n",
       "    <tr>\n",
       "      <th>0</th>\n",
       "      <td>P</td>\n",
       "      <td>2023GQ0000068</td>\n",
       "      <td>5</td>\n",
       "      <td>1</td>\n",
       "      <td>201</td>\n",
       "      <td>3</td>\n",
       "      <td>24</td>\n",
       "      <td>1019518</td>\n",
       "      <td>27</td>\n",
       "      <td>62</td>\n",
       "      <td>...</td>\n",
       "      <td>27</td>\n",
       "      <td>29</td>\n",
       "      <td>24</td>\n",
       "      <td>25</td>\n",
       "      <td>29</td>\n",
       "      <td>27</td>\n",
       "      <td>25</td>\n",
       "      <td>29</td>\n",
       "      <td>28</td>\n",
       "      <td>28</td>\n",
       "    </tr>\n",
       "    <tr>\n",
       "      <th>1</th>\n",
       "      <td>P</td>\n",
       "      <td>2023GQ0000079</td>\n",
       "      <td>5</td>\n",
       "      <td>1</td>\n",
       "      <td>502</td>\n",
       "      <td>3</td>\n",
       "      <td>24</td>\n",
       "      <td>1019518</td>\n",
       "      <td>13</td>\n",
       "      <td>21</td>\n",
       "      <td>...</td>\n",
       "      <td>13</td>\n",
       "      <td>26</td>\n",
       "      <td>17</td>\n",
       "      <td>15</td>\n",
       "      <td>13</td>\n",
       "      <td>32</td>\n",
       "      <td>0</td>\n",
       "      <td>2</td>\n",
       "      <td>2</td>\n",
       "      <td>13</td>\n",
       "    </tr>\n",
       "    <tr>\n",
       "      <th>2</th>\n",
       "      <td>P</td>\n",
       "      <td>2023GQ0000088</td>\n",
       "      <td>5</td>\n",
       "      <td>1</td>\n",
       "      <td>1400</td>\n",
       "      <td>3</td>\n",
       "      <td>24</td>\n",
       "      <td>1019518</td>\n",
       "      <td>25</td>\n",
       "      <td>35</td>\n",
       "      <td>...</td>\n",
       "      <td>32</td>\n",
       "      <td>25</td>\n",
       "      <td>70</td>\n",
       "      <td>54</td>\n",
       "      <td>42</td>\n",
       "      <td>24</td>\n",
       "      <td>2</td>\n",
       "      <td>34</td>\n",
       "      <td>49</td>\n",
       "      <td>23</td>\n",
       "    </tr>\n",
       "    <tr>\n",
       "      <th>3</th>\n",
       "      <td>P</td>\n",
       "      <td>2023GQ0000093</td>\n",
       "      <td>5</td>\n",
       "      <td>1</td>\n",
       "      <td>1300</td>\n",
       "      <td>3</td>\n",
       "      <td>24</td>\n",
       "      <td>1019518</td>\n",
       "      <td>19</td>\n",
       "      <td>61</td>\n",
       "      <td>...</td>\n",
       "      <td>14</td>\n",
       "      <td>19</td>\n",
       "      <td>23</td>\n",
       "      <td>27</td>\n",
       "      <td>2</td>\n",
       "      <td>22</td>\n",
       "      <td>27</td>\n",
       "      <td>3</td>\n",
       "      <td>20</td>\n",
       "      <td>2</td>\n",
       "    </tr>\n",
       "    <tr>\n",
       "      <th>4</th>\n",
       "      <td>P</td>\n",
       "      <td>2023GQ0000100</td>\n",
       "      <td>5</td>\n",
       "      <td>1</td>\n",
       "      <td>802</td>\n",
       "      <td>3</td>\n",
       "      <td>24</td>\n",
       "      <td>1019518</td>\n",
       "      <td>106</td>\n",
       "      <td>73</td>\n",
       "      <td>...</td>\n",
       "      <td>136</td>\n",
       "      <td>206</td>\n",
       "      <td>9</td>\n",
       "      <td>15</td>\n",
       "      <td>106</td>\n",
       "      <td>209</td>\n",
       "      <td>115</td>\n",
       "      <td>210</td>\n",
       "      <td>211</td>\n",
       "      <td>15</td>\n",
       "    </tr>\n",
       "  </tbody>\n",
       "</table>\n",
       "<p>5 rows × 287 columns</p>\n",
       "</div>"
      ],
      "text/plain": [
       "  RT       SERIALNO  DIVISION  SPORDER  PUMA  REGION  STATE   ADJINC  PWGTP  \\\n",
       "0  P  2023GQ0000068         5        1   201       3     24  1019518     27   \n",
       "1  P  2023GQ0000079         5        1   502       3     24  1019518     13   \n",
       "2  P  2023GQ0000088         5        1  1400       3     24  1019518     25   \n",
       "3  P  2023GQ0000093         5        1  1300       3     24  1019518     19   \n",
       "4  P  2023GQ0000100         5        1   802       3     24  1019518    106   \n",
       "\n",
       "   AGEP  ...  PWGTP71  PWGTP72  PWGTP73  PWGTP74  PWGTP75  PWGTP76  PWGTP77  \\\n",
       "0    62  ...       27       29       24       25       29       27       25   \n",
       "1    21  ...       13       26       17       15       13       32        0   \n",
       "2    35  ...       32       25       70       54       42       24        2   \n",
       "3    61  ...       14       19       23       27        2       22       27   \n",
       "4    73  ...      136      206        9       15      106      209      115   \n",
       "\n",
       "   PWGTP78  PWGTP79  PWGTP80  \n",
       "0       29       28       28  \n",
       "1        2        2       13  \n",
       "2       34       49       23  \n",
       "3        3       20        2  \n",
       "4      210      211       15  \n",
       "\n",
       "[5 rows x 287 columns]"
      ]
     },
     "execution_count": 320,
     "metadata": {},
     "output_type": "execute_result"
    }
   ],
   "source": [
    "from folktables import ACSDataSource, ACSEmployment, BasicProblem, adult_filter\n",
    "import numpy as np\n",
    "\n",
    "STATE = \"MD\"\n",
    "\n",
    "data_source = ACSDataSource(survey_year='2023', \n",
    "                            horizon='1-Year', \n",
    "                            survey='person')\n",
    "\n",
    "acs_data = data_source.get_data(states=[STATE], download=True)\n",
    "\n",
    "acs_data.head()"
   ]
  },
  {
   "cell_type": "markdown",
   "metadata": {},
   "source": [
    "# Data Cleaning\n",
    "\n",
    "The dataset has a *lot* of features. For our modeling task, we will only use the following possible features"
   ]
  },
  {
   "cell_type": "code",
   "execution_count": 321,
   "metadata": {},
   "outputs": [
    {
     "data": {
      "text/html": [
       "<div>\n",
       "<style scoped>\n",
       "    .dataframe tbody tr th:only-of-type {\n",
       "        vertical-align: middle;\n",
       "    }\n",
       "\n",
       "    .dataframe tbody tr th {\n",
       "        vertical-align: top;\n",
       "    }\n",
       "\n",
       "    .dataframe thead th {\n",
       "        text-align: right;\n",
       "    }\n",
       "</style>\n",
       "<table border=\"1\" class=\"dataframe\">\n",
       "  <thead>\n",
       "    <tr style=\"text-align: right;\">\n",
       "      <th></th>\n",
       "      <th>AGEP</th>\n",
       "      <th>SCHL</th>\n",
       "      <th>MAR</th>\n",
       "      <th>DIS</th>\n",
       "      <th>ESP</th>\n",
       "      <th>CIT</th>\n",
       "      <th>MIG</th>\n",
       "      <th>MIL</th>\n",
       "      <th>ANC</th>\n",
       "      <th>NATIVITY</th>\n",
       "      <th>DEAR</th>\n",
       "      <th>DEYE</th>\n",
       "      <th>DREM</th>\n",
       "      <th>SEX</th>\n",
       "      <th>RAC1P</th>\n",
       "      <th>ESR</th>\n",
       "    </tr>\n",
       "  </thead>\n",
       "  <tbody>\n",
       "    <tr>\n",
       "      <th>0</th>\n",
       "      <td>62</td>\n",
       "      <td>17.0</td>\n",
       "      <td>5</td>\n",
       "      <td>1</td>\n",
       "      <td>NaN</td>\n",
       "      <td>1</td>\n",
       "      <td>1.0</td>\n",
       "      <td>4.0</td>\n",
       "      <td>4</td>\n",
       "      <td>1</td>\n",
       "      <td>2</td>\n",
       "      <td>1</td>\n",
       "      <td>1.0</td>\n",
       "      <td>1</td>\n",
       "      <td>1</td>\n",
       "      <td>6.0</td>\n",
       "    </tr>\n",
       "    <tr>\n",
       "      <th>1</th>\n",
       "      <td>21</td>\n",
       "      <td>19.0</td>\n",
       "      <td>5</td>\n",
       "      <td>2</td>\n",
       "      <td>NaN</td>\n",
       "      <td>1</td>\n",
       "      <td>1.0</td>\n",
       "      <td>4.0</td>\n",
       "      <td>2</td>\n",
       "      <td>1</td>\n",
       "      <td>2</td>\n",
       "      <td>2</td>\n",
       "      <td>2.0</td>\n",
       "      <td>2</td>\n",
       "      <td>9</td>\n",
       "      <td>6.0</td>\n",
       "    </tr>\n",
       "    <tr>\n",
       "      <th>2</th>\n",
       "      <td>35</td>\n",
       "      <td>16.0</td>\n",
       "      <td>5</td>\n",
       "      <td>2</td>\n",
       "      <td>NaN</td>\n",
       "      <td>1</td>\n",
       "      <td>1.0</td>\n",
       "      <td>4.0</td>\n",
       "      <td>1</td>\n",
       "      <td>1</td>\n",
       "      <td>2</td>\n",
       "      <td>2</td>\n",
       "      <td>2.0</td>\n",
       "      <td>1</td>\n",
       "      <td>2</td>\n",
       "      <td>6.0</td>\n",
       "    </tr>\n",
       "    <tr>\n",
       "      <th>3</th>\n",
       "      <td>61</td>\n",
       "      <td>18.0</td>\n",
       "      <td>3</td>\n",
       "      <td>1</td>\n",
       "      <td>NaN</td>\n",
       "      <td>1</td>\n",
       "      <td>3.0</td>\n",
       "      <td>4.0</td>\n",
       "      <td>4</td>\n",
       "      <td>1</td>\n",
       "      <td>2</td>\n",
       "      <td>2</td>\n",
       "      <td>1.0</td>\n",
       "      <td>1</td>\n",
       "      <td>1</td>\n",
       "      <td>6.0</td>\n",
       "    </tr>\n",
       "    <tr>\n",
       "      <th>4</th>\n",
       "      <td>73</td>\n",
       "      <td>13.0</td>\n",
       "      <td>5</td>\n",
       "      <td>1</td>\n",
       "      <td>NaN</td>\n",
       "      <td>1</td>\n",
       "      <td>1.0</td>\n",
       "      <td>4.0</td>\n",
       "      <td>4</td>\n",
       "      <td>1</td>\n",
       "      <td>2</td>\n",
       "      <td>2</td>\n",
       "      <td>2.0</td>\n",
       "      <td>1</td>\n",
       "      <td>1</td>\n",
       "      <td>6.0</td>\n",
       "    </tr>\n",
       "  </tbody>\n",
       "</table>\n",
       "</div>"
      ],
      "text/plain": [
       "   AGEP  SCHL  MAR  DIS  ESP  CIT  MIG  MIL  ANC  NATIVITY  DEAR  DEYE  DREM  \\\n",
       "0    62  17.0    5    1  NaN    1  1.0  4.0    4         1     2     1   1.0   \n",
       "1    21  19.0    5    2  NaN    1  1.0  4.0    2         1     2     2   2.0   \n",
       "2    35  16.0    5    2  NaN    1  1.0  4.0    1         1     2     2   2.0   \n",
       "3    61  18.0    3    1  NaN    1  3.0  4.0    4         1     2     2   1.0   \n",
       "4    73  13.0    5    1  NaN    1  1.0  4.0    4         1     2     2   2.0   \n",
       "\n",
       "   SEX  RAC1P  ESR  \n",
       "0    1      1  6.0  \n",
       "1    2      9  6.0  \n",
       "2    1      2  6.0  \n",
       "3    1      1  6.0  \n",
       "4    1      1  6.0  "
      ]
     },
     "execution_count": 321,
     "metadata": {},
     "output_type": "execute_result"
    }
   ],
   "source": [
    "possible_features=['AGEP', 'SCHL', 'MAR', 'DIS', 'ESP', 'CIT', 'MIG', 'MIL', 'ANC', 'NATIVITY', 'DEAR', 'DEYE', 'DREM', 'SEX', 'RAC1P', 'ESR']\n",
    "acs_data[possible_features].head()\n"
   ]
  },
  {
   "cell_type": "markdown",
   "metadata": {},
   "source": [
    "For documentation on what these features mean, please consult the appendix of [this paper](https://arxiv.org/pdf/2108.04884) that introduced the package."
   ]
  },
  {
   "cell_type": "markdown",
   "metadata": {},
   "source": [
    "I am going to train my model on all of the possible features aside from race, because we will be auditing for racial bias later. I will use these features to predict employment status (ESR), so that column of data will also be discluded from my training."
   ]
  },
  {
   "cell_type": "code",
   "execution_count": 322,
   "metadata": {},
   "outputs": [],
   "source": [
    "features_to_use = [f for f in possible_features if f not in [\"ESR\", \"RAC1P\"]]"
   ]
  },
  {
   "cell_type": "markdown",
   "metadata": {},
   "source": [
    "Now we can construct a BasicProblem that expresses our wish to use these feautures to predict employment status (ESR), using race (RAC1P) as the group label."
   ]
  },
  {
   "cell_type": "code",
   "execution_count": 323,
   "metadata": {},
   "outputs": [],
   "source": [
    "EmploymentProblem = BasicProblem(\n",
    "    features=features_to_use,\n",
    "    target='ESR',\n",
    "    target_transform=lambda x: x == 1,\n",
    "    group='RAC1P',\n",
    "    preprocess=lambda x: x,\n",
    "    postprocess=lambda x: np.nan_to_num(x, -1),\n",
    ")\n",
    "\n",
    "features, label, group = EmploymentProblem.df_to_numpy(acs_data)"
   ]
  },
  {
   "cell_type": "markdown",
   "metadata": {},
   "source": [
    "Before we touch the data anymore, we should perform a train-test split, training our model on 80% of the data, and testing on the remaining 20%."
   ]
  },
  {
   "cell_type": "code",
   "execution_count": 324,
   "metadata": {},
   "outputs": [],
   "source": [
    "from sklearn.model_selection import train_test_split\n",
    "X_train, X_test, y_train, y_test, group_train, group_test = train_test_split(\n",
    "    features, label, group, test_size=0.2, random_state=0)"
   ]
  },
  {
   "cell_type": "markdown",
   "metadata": {},
   "source": [
    "# Data Exploration\n",
    "\n",
    "Now we want to answer some basic questions about the data we are working with. We can answer these questions by turning our training data into a data frame for easy analysis."
   ]
  },
  {
   "cell_type": "code",
   "execution_count": 341,
   "metadata": {},
   "outputs": [
    {
     "data": {
      "text/html": [
       "<div>\n",
       "<style scoped>\n",
       "    .dataframe tbody tr th:only-of-type {\n",
       "        vertical-align: middle;\n",
       "    }\n",
       "\n",
       "    .dataframe tbody tr th {\n",
       "        vertical-align: top;\n",
       "    }\n",
       "\n",
       "    .dataframe thead th {\n",
       "        text-align: right;\n",
       "    }\n",
       "</style>\n",
       "<table border=\"1\" class=\"dataframe\">\n",
       "  <thead>\n",
       "    <tr style=\"text-align: right;\">\n",
       "      <th></th>\n",
       "      <th>AGEP</th>\n",
       "      <th>SCHL</th>\n",
       "      <th>MAR</th>\n",
       "      <th>DIS</th>\n",
       "      <th>ESP</th>\n",
       "      <th>CIT</th>\n",
       "      <th>MIG</th>\n",
       "      <th>MIL</th>\n",
       "      <th>ANC</th>\n",
       "      <th>NATIVITY</th>\n",
       "      <th>DEAR</th>\n",
       "      <th>DEYE</th>\n",
       "      <th>DREM</th>\n",
       "      <th>SEX</th>\n",
       "      <th>group</th>\n",
       "      <th>label</th>\n",
       "    </tr>\n",
       "  </thead>\n",
       "  <tbody>\n",
       "    <tr>\n",
       "      <th>0</th>\n",
       "      <td>4.0</td>\n",
       "      <td>1.0</td>\n",
       "      <td>5.0</td>\n",
       "      <td>2.0</td>\n",
       "      <td>5.0</td>\n",
       "      <td>1.0</td>\n",
       "      <td>1.0</td>\n",
       "      <td>0.0</td>\n",
       "      <td>1.0</td>\n",
       "      <td>1.0</td>\n",
       "      <td>2.0</td>\n",
       "      <td>2.0</td>\n",
       "      <td>0.0</td>\n",
       "      <td>1.0</td>\n",
       "      <td>1</td>\n",
       "      <td>False</td>\n",
       "    </tr>\n",
       "    <tr>\n",
       "      <th>1</th>\n",
       "      <td>2.0</td>\n",
       "      <td>0.0</td>\n",
       "      <td>5.0</td>\n",
       "      <td>2.0</td>\n",
       "      <td>1.0</td>\n",
       "      <td>1.0</td>\n",
       "      <td>1.0</td>\n",
       "      <td>0.0</td>\n",
       "      <td>1.0</td>\n",
       "      <td>1.0</td>\n",
       "      <td>2.0</td>\n",
       "      <td>2.0</td>\n",
       "      <td>0.0</td>\n",
       "      <td>1.0</td>\n",
       "      <td>1</td>\n",
       "      <td>False</td>\n",
       "    </tr>\n",
       "    <tr>\n",
       "      <th>2</th>\n",
       "      <td>49.0</td>\n",
       "      <td>21.0</td>\n",
       "      <td>1.0</td>\n",
       "      <td>2.0</td>\n",
       "      <td>0.0</td>\n",
       "      <td>1.0</td>\n",
       "      <td>1.0</td>\n",
       "      <td>4.0</td>\n",
       "      <td>2.0</td>\n",
       "      <td>1.0</td>\n",
       "      <td>2.0</td>\n",
       "      <td>2.0</td>\n",
       "      <td>2.0</td>\n",
       "      <td>1.0</td>\n",
       "      <td>1</td>\n",
       "      <td>False</td>\n",
       "    </tr>\n",
       "    <tr>\n",
       "      <th>3</th>\n",
       "      <td>47.0</td>\n",
       "      <td>15.0</td>\n",
       "      <td>5.0</td>\n",
       "      <td>1.0</td>\n",
       "      <td>0.0</td>\n",
       "      <td>3.0</td>\n",
       "      <td>1.0</td>\n",
       "      <td>4.0</td>\n",
       "      <td>1.0</td>\n",
       "      <td>1.0</td>\n",
       "      <td>2.0</td>\n",
       "      <td>2.0</td>\n",
       "      <td>1.0</td>\n",
       "      <td>2.0</td>\n",
       "      <td>1</td>\n",
       "      <td>True</td>\n",
       "    </tr>\n",
       "    <tr>\n",
       "      <th>4</th>\n",
       "      <td>0.0</td>\n",
       "      <td>0.0</td>\n",
       "      <td>5.0</td>\n",
       "      <td>2.0</td>\n",
       "      <td>1.0</td>\n",
       "      <td>1.0</td>\n",
       "      <td>0.0</td>\n",
       "      <td>0.0</td>\n",
       "      <td>1.0</td>\n",
       "      <td>1.0</td>\n",
       "      <td>2.0</td>\n",
       "      <td>2.0</td>\n",
       "      <td>0.0</td>\n",
       "      <td>1.0</td>\n",
       "      <td>1</td>\n",
       "      <td>False</td>\n",
       "    </tr>\n",
       "  </tbody>\n",
       "</table>\n",
       "</div>"
      ],
      "text/plain": [
       "   AGEP  SCHL  MAR  DIS  ESP  CIT  MIG  MIL  ANC  NATIVITY  DEAR  DEYE  DREM  \\\n",
       "0   4.0   1.0  5.0  2.0  5.0  1.0  1.0  0.0  1.0       1.0   2.0   2.0   0.0   \n",
       "1   2.0   0.0  5.0  2.0  1.0  1.0  1.0  0.0  1.0       1.0   2.0   2.0   0.0   \n",
       "2  49.0  21.0  1.0  2.0  0.0  1.0  1.0  4.0  2.0       1.0   2.0   2.0   2.0   \n",
       "3  47.0  15.0  5.0  1.0  0.0  3.0  1.0  4.0  1.0       1.0   2.0   2.0   1.0   \n",
       "4   0.0   0.0  5.0  2.0  1.0  1.0  0.0  0.0  1.0       1.0   2.0   2.0   0.0   \n",
       "\n",
       "   SEX  group  label  \n",
       "0  1.0      1  False  \n",
       "1  1.0      1  False  \n",
       "2  1.0      1  False  \n",
       "3  2.0      1   True  \n",
       "4  1.0      1  False  "
      ]
     },
     "execution_count": 341,
     "metadata": {},
     "output_type": "execute_result"
    }
   ],
   "source": [
    "import pandas as pd\n",
    "df = pd.DataFrame(X_train, columns = features_to_use)\n",
    "df[\"group\"] = group_train\n",
    "df[\"label\"] = y_train\n",
    "df.head()"
   ]
  },
  {
   "cell_type": "markdown",
   "metadata": {},
   "source": [
    "### 1. How many individuals are in the data?"
   ]
  },
  {
   "cell_type": "code",
   "execution_count": 342,
   "metadata": {},
   "outputs": [
    {
     "data": {
      "text/plain": [
       "49624"
      ]
     },
     "execution_count": 342,
     "metadata": {},
     "output_type": "execute_result"
    }
   ],
   "source": [
    "df.shape[0]"
   ]
  },
  {
   "cell_type": "markdown",
   "metadata": {},
   "source": [
    "### 2. Of these individuals, what proportion are employed?"
   ]
  },
  {
   "cell_type": "code",
   "execution_count": 343,
   "metadata": {},
   "outputs": [
    {
     "data": {
      "text/plain": [
       "0.4898839271320329"
      ]
     },
     "execution_count": 343,
     "metadata": {},
     "output_type": "execute_result"
    }
   ],
   "source": [
    "df[\"label\"].mean()"
   ]
  },
  {
   "cell_type": "markdown",
   "metadata": {},
   "source": [
    "### 3. Of these individuals, how many are in each racial group?"
   ]
  },
  {
   "cell_type": "code",
   "execution_count": 363,
   "metadata": {},
   "outputs": [
    {
     "data": {
      "text/plain": [
       "group\n",
       "1    14026\n",
       "2     5131\n",
       "3       93\n",
       "4        1\n",
       "5       19\n",
       "6     2046\n",
       "7       12\n",
       "8     1247\n",
       "9     1735\n",
       "Name: label, dtype: int64"
      ]
     },
     "execution_count": 363,
     "metadata": {},
     "output_type": "execute_result"
    }
   ],
   "source": [
    "# Count the number of employed people in each racial group\n",
    "df[df[\"label\"] == 1].groupby(\"group\")[\"label\"].count()"
   ]
  },
  {
   "cell_type": "markdown",
   "metadata": {},
   "source": [
    "The race groups are broken down as follows:<br>\n",
    "– 1: White alone <br>\n",
    "– 2: Black or African American alone <br>\n",
    "– 3: American Indian alone<br>\n",
    "– 4: Alaska Native alone<br>\n",
    "– 5: American Indian and Alaska Native<br>\n",
    "– 6: Asian alone<br>\n",
    "– 7: Native Hawaiian and Other Pacific Islander alone<br>\n",
    "– 8: Some Other Race alone<br>\n",
    "– 9: Two or More Races<br>"
   ]
  },
  {
   "cell_type": "markdown",
   "metadata": {},
   "source": [
    "### 4. In each group, what proportion of individuals have target label equal to 1, i.e. what proportion of people in each race is employed?"
   ]
  },
  {
   "cell_type": "code",
   "execution_count": 348,
   "metadata": {},
   "outputs": [
    {
     "data": {
      "text/plain": [
       "group\n",
       "1    0.491761\n",
       "2    0.478415\n",
       "3    0.547059\n",
       "4    0.333333\n",
       "5    0.372549\n",
       "6    0.544874\n",
       "7    0.666667\n",
       "8    0.513169\n",
       "9    0.439241\n",
       "Name: label, dtype: float64"
      ]
     },
     "execution_count": 348,
     "metadata": {},
     "output_type": "execute_result"
    }
   ],
   "source": [
    "# Compute the proportion of employed individuals in each racial group\n",
    "df.groupby(\"group\")[\"label\"].mean()\n"
   ]
  },
  {
   "cell_type": "markdown",
   "metadata": {},
   "source": [
    "### Now I will look for some intersectional trends."
   ]
  },
  {
   "cell_type": "code",
   "execution_count": 366,
   "metadata": {},
   "outputs": [
    {
     "data": {
      "image/png": "[encoded data removed]",
      "text/plain": [
       "<Figure size 1000x600 with 1 Axes>"
      ]
     },
     "metadata": {},
     "output_type": "display_data"
    }
   ],
   "source": [
    "import matplotlib.pyplot as plt\n",
    "import seaborn as sns\n",
    "import pandas as pd\n",
    "\n",
    "# Create a DataFrame with the training features\n",
    "df = pd.DataFrame(X_train, columns=features_to_use)\n",
    "\n",
    "# Add the race and employment status columns separately\n",
    "df[\"Race\"] = group_train  # This is the group label provided separately\n",
    "df[\"Employment Status\"] = y_train  # 1 = Employed, 0 = Not employed\n",
    "\n",
    "# Extract Sex feature\n",
    "df[\"Sex\"] = X_train[:, features_to_use.index(\"SEX\")]\n",
    "# Replace numeric values with \"Male\" and \"Female\"\n",
    "df[\"Sex\"] = df[\"Sex\"].replace({1: \"Male\", 2: \"Female\"})\n",
    "\n",
    "# Rename race labels dynamically\n",
    "unique_races = df[\"Race\"].unique()\n",
    "race_labels = {race: f\"Race {race}\" for race in unique_races}\n",
    "df[\"Race\"] = df[\"Race\"].replace(race_labels)\n",
    "\n",
    "# Compute the proportion of employed individuals by race and sex\n",
    "intersectional_proportions = df.groupby([\"Race\", \"Sex\"])[\"Employment Status\"].mean().reset_index()\n",
    "\n",
    "# Plot the results\n",
    "plt.figure(figsize=(10, 6))\n",
    "ax = sns.barplot(data=intersectional_proportions, x=\"Race\", y=\"Employment Status\", hue=\"Sex\")\n",
    "\n",
    "# Add numerical labels on top of each bar\n",
    "for p in ax.patches:\n",
    "    if p.get_height() > 0:  # Only annotate bars with nonzero height\n",
    "        ax.annotate(f'{p.get_height():.2f}',  # Format proportion to 2 decimal places\n",
    "                    (p.get_x() + p.get_width() / 2., p.get_height()), \n",
    "                    ha='center', va='bottom', fontsize=10, color='black')\n",
    "\n",
    "# Adjust plot aesthetics\n",
    "plt.title(\"Proportion of Employed Individuals by Sex and Race\")\n",
    "plt.ylabel(\"Proportion Employed\")\n",
    "plt.xlabel(\"Race\")\n",
    "plt.xticks(rotation=45)  # Rotate labels for better visibility\n",
    "plt.legend(title=\"Sex\")\n",
    "plt.ylim(0, 1)\n",
    "\n",
    "# Display the plot\n",
    "plt.show()"
   ]
  },
  {
   "cell_type": "markdown",
   "metadata": {},
   "source": [
    "This visualization gives us some valuable insights. The main outliers are only 30% of female Alaskan Natives (race 5) are employed and around 83% of male Pacific Islanders (race 7) are employed. Another thing to note is there are 0 employed male Alaskan natives (race 4), and this is because the training data set only includes one employed Alaskan native, and that person is female. Aside from those outliers, members from all racial groups have similar proportion of employed individuals (0.42-0.59), with males being employed at higher rates than women for every racial group besides Black people (race 2)."
   ]
  },
  {
   "cell_type": "markdown",
   "metadata": {},
   "source": [
    "# Training a Model\n",
    "\n"
   ]
  },
  {
   "cell_type": "markdown",
   "metadata": {},
   "source": [
    "This Random Forest model undergoes hyperparameter tuning using GridSearchCV, where different values for max_depth (the maximum depth of each tree) are tested through 5-fold cross-validation to determine the best-performing configuration based on accuracy. Once the optimal max_depth is found, the best model is evaluated using cross-validation to estimate its generalization performance. Finally, the model is retrained on the full training dataset to maximize learning before deployment."
   ]
  },
  {
   "cell_type": "code",
   "execution_count": 349,
   "metadata": {},
   "outputs": [
    {
     "name": "stdout",
     "output_type": "stream",
     "text": [
      "Best max_depth for Random Forest: 10\n",
      "Cross-validation accuracy: 0.8287\n"
     ]
    },
    {
     "data": {
      "text/plain": [
       "RandomForestClassifier(max_depth=10, random_state=0)"
      ]
     },
     "execution_count": 349,
     "metadata": {},
     "output_type": "execute_result"
    }
   ],
   "source": [
    "from sklearn.ensemble import RandomForestClassifier\n",
    "from sklearn.model_selection import GridSearchCV, cross_val_score\n",
    "\n",
    "# Define the Random Forest Classifier\n",
    "rf = RandomForestClassifier(n_estimators=100, random_state=0)\n",
    "\n",
    "# Define hyperparameters to tune\n",
    "param_grid_rf = {'max_depth': [3, 5, 10, None]}  # Tune max depth\n",
    "\n",
    "# Perform Grid Search with Cross-Validation\n",
    "grid_rf = GridSearchCV(rf, param_grid_rf, cv=5, scoring='accuracy')\n",
    "grid_rf.fit(X_train, y_train)\n",
    "\n",
    "# Get the best model from Grid Search\n",
    "best_rf_model = grid_rf.best_estimator_\n",
    "\n",
    "# Print the best max_depth value\n",
    "print(\"Best max_depth for Random Forest:\", grid_rf.best_params_['max_depth'])\n",
    "\n",
    "# Evaluate the model with cross-validation\n",
    "rf_score = cross_val_score(best_rf_model, X_train, y_train, cv=5).mean()\n",
    "print(f\"Cross-validation accuracy: {rf_score:.4f}\")\n",
    "\n",
    "# Train the final model on the full training set\n",
    "best_rf_model.fit(X_train, y_train)\n"
   ]
  },
  {
   "cell_type": "markdown",
   "metadata": {},
   "source": [
    "Based on our cross-validation results, the optimal accuracy of our model is achieved with a max_depth of 10.\n",
    "\n",
    "With a max_depth of 10, our Random Forest model predicted employment with an accuracy of approximately 82% on the training data."
   ]
  },
  {
   "cell_type": "markdown",
   "metadata": {},
   "source": [
    "# Testing My Model"
   ]
  },
  {
   "cell_type": "markdown",
   "metadata": {},
   "source": [
    "\n",
    "### Overall Accuracy and Precision\n",
    "\n",
    "First let's see the overall accuracy of our model on the entire test set, without considering different racial groups."
   ]
  },
  {
   "cell_type": "code",
   "execution_count": 419,
   "metadata": {},
   "outputs": [],
   "source": [
    "from sklearn.metrics import accuracy_score\n",
    "from sklearn.metrics import precision_score\n",
    "from sklearn.metrics import confusion_matrix\n",
    "\n",
    "# Make predictions on the test set\n",
    "y_pred = best_rf_model.predict(X_test)\n",
    "def compute_metrics(y_true, y_pred):\n",
    "    C = confusion_matrix(y_true, y_pred)\n",
    "\n",
    "    # Extract confusion matrix values manually\n",
    "    tn = C[0, 0] \n",
    "    fp = C[0, 1] \n",
    "    fn = C[1, 0] \n",
    "    tp = C[1, 1] \n",
    "\n",
    "    # Compute metrics\n",
    "    accuracy = (y_pred == y_true).mean()\n",
    "    ppv = tp / (tp + fp) \n",
    "    fnr = fn / (fn + tp) \n",
    "    fpr = fp / (fp + tn)\n",
    "\n",
    "    return pd.Series({\"Accuracy\": accuracy, \"PPV\": ppv, \"FNR\": fnr, \"FPR\": fpr})\n"
   ]
  },
  {
   "cell_type": "code",
   "execution_count": 420,
   "metadata": {},
   "outputs": [
    {
     "data": {
      "text/plain": [
       "Accuracy    0.826388\n",
       "PPV         0.792269\n",
       "FNR         0.121975\n",
       "FPR         0.223812\n",
       "dtype: float64"
      ]
     },
     "execution_count": 420,
     "metadata": {},
     "output_type": "execute_result"
    }
   ],
   "source": [
    "compute_metrics(y_test, y_pred)"
   ]
  },
  {
   "cell_type": "markdown",
   "metadata": {},
   "source": [
    "### Testing By Racial Group\n",
    "\n",
    "Now let's check out some of the metrics split up by racial group."
   ]
  },
  {
   "cell_type": "code",
   "execution_count": 428,
   "metadata": {},
   "outputs": [
    {
     "data": {
      "text/html": [
       "<div>\n",
       "<style scoped>\n",
       "    .dataframe tbody tr th:only-of-type {\n",
       "        vertical-align: middle;\n",
       "    }\n",
       "\n",
       "    .dataframe tbody tr th {\n",
       "        vertical-align: top;\n",
       "    }\n",
       "\n",
       "    .dataframe thead th {\n",
       "        text-align: right;\n",
       "    }\n",
       "</style>\n",
       "<table border=\"1\" class=\"dataframe\">\n",
       "  <thead>\n",
       "    <tr style=\"text-align: right;\">\n",
       "      <th></th>\n",
       "      <th>Accuracy</th>\n",
       "      <th>PPV</th>\n",
       "      <th>FNR</th>\n",
       "      <th>FPR</th>\n",
       "    </tr>\n",
       "    <tr>\n",
       "      <th>race</th>\n",
       "      <th></th>\n",
       "      <th></th>\n",
       "      <th></th>\n",
       "      <th></th>\n",
       "    </tr>\n",
       "  </thead>\n",
       "  <tbody>\n",
       "    <tr>\n",
       "      <th>1</th>\n",
       "      <td>0.827839</td>\n",
       "      <td>0.801902</td>\n",
       "      <td>0.134550</td>\n",
       "      <td>0.208914</td>\n",
       "    </tr>\n",
       "    <tr>\n",
       "      <th>2</th>\n",
       "      <td>0.814081</td>\n",
       "      <td>0.770961</td>\n",
       "      <td>0.131336</td>\n",
       "      <td>0.235789</td>\n",
       "    </tr>\n",
       "    <tr>\n",
       "      <th>3</th>\n",
       "      <td>0.822222</td>\n",
       "      <td>0.777778</td>\n",
       "      <td>0.086957</td>\n",
       "      <td>0.272727</td>\n",
       "    </tr>\n",
       "    <tr>\n",
       "      <th>5</th>\n",
       "      <td>0.850000</td>\n",
       "      <td>0.700000</td>\n",
       "      <td>0.000000</td>\n",
       "      <td>0.230769</td>\n",
       "    </tr>\n",
       "    <tr>\n",
       "      <th>6</th>\n",
       "      <td>0.806999</td>\n",
       "      <td>0.768116</td>\n",
       "      <td>0.073786</td>\n",
       "      <td>0.336449</td>\n",
       "    </tr>\n",
       "    <tr>\n",
       "      <th>7</th>\n",
       "      <td>0.818182</td>\n",
       "      <td>0.750000</td>\n",
       "      <td>0.250000</td>\n",
       "      <td>0.142857</td>\n",
       "    </tr>\n",
       "    <tr>\n",
       "      <th>8</th>\n",
       "      <td>0.838879</td>\n",
       "      <td>0.808260</td>\n",
       "      <td>0.089701</td>\n",
       "      <td>0.240741</td>\n",
       "    </tr>\n",
       "    <tr>\n",
       "      <th>9</th>\n",
       "      <td>0.860887</td>\n",
       "      <td>0.803435</td>\n",
       "      <td>0.076754</td>\n",
       "      <td>0.192164</td>\n",
       "    </tr>\n",
       "  </tbody>\n",
       "</table>\n",
       "</div>"
      ],
      "text/plain": [
       "      Accuracy       PPV       FNR       FPR\n",
       "race                                        \n",
       "1     0.827839  0.801902  0.134550  0.208914\n",
       "2     0.814081  0.770961  0.131336  0.235789\n",
       "3     0.822222  0.777778  0.086957  0.272727\n",
       "5     0.850000  0.700000  0.000000  0.230769\n",
       "6     0.806999  0.768116  0.073786  0.336449\n",
       "7     0.818182  0.750000  0.250000  0.142857\n",
       "8     0.838879  0.808260  0.089701  0.240741\n",
       "9     0.860887  0.803435  0.076754  0.192164"
      ]
     },
     "execution_count": 428,
     "metadata": {},
     "output_type": "execute_result"
    }
   ],
   "source": [
    "import pandas as pd\n",
    "from sklearn.metrics import confusion_matrix\n",
    "\n",
    "# Create DataFrame with predictions and actual values\n",
    "df_results = pd.DataFrame({\"true_employment\": y_test, \"predicted_employment\": y_pred, \"race\": group_test})\n",
    "\n",
    "# Apply function to each subgroup\n",
    "results_df = df_results.groupby(\"race\").apply(lambda g: compute_metrics(g[\"true_employment\"], g[\"predicted_employment\"]))\n",
    "results_df"
   ]
  },
  {
   "cell_type": "markdown",
   "metadata": {},
   "source": [
    "# Auditing For Racial Bias"
   ]
  },
  {
   "cell_type": "markdown",
   "metadata": {},
   "source": [
    "Now let's analyze our data through the lens of various bias measures to see how it impacts different racial groups differently. To measure these biases, I will refer to the above results_df data frame that includes the model's metrics divied up by racial group."
   ]
  },
  {
   "cell_type": "markdown",
   "metadata": {},
   "source": [
    "### Calibration"
   ]
  },
  {
   "cell_type": "markdown",
   "metadata": {},
   "source": [
    "Now I will preforming a check to see if my model is calibrated with respect to racial group. the code below calculates the actual true employment rate for each group, but only for cases where the model predicted employment. When I group by race and take the mean of Predicted Employment, it measures how often a positive prediction was actually correct within each racial group. This helps determine if the model’s positive predictions are equally reliable across racial groups."
   ]
  },
  {
   "cell_type": "code",
   "execution_count": 429,
   "metadata": {},
   "outputs": [
    {
     "data": {
      "text/plain": [
       "race\n",
       "1    0.801902\n",
       "2    0.770961\n",
       "3    0.777778\n",
       "5    0.700000\n",
       "6    0.768116\n",
       "7    0.750000\n",
       "8    0.808260\n",
       "9    0.803435\n",
       "Name: true_employment, dtype: float64"
      ]
     },
     "execution_count": 429,
     "metadata": {},
     "output_type": "execute_result"
    }
   ],
   "source": [
    "import numpy as np\n",
    "\n",
    "# Compute actual employment rate when model predicts 1, by racial group\n",
    "calibration_check = df_results[df_results[\"predicted_employment\"] == 1].groupby(\"race\")[\"true_employment\"].mean()\n",
    "calibration_check"
   ]
  },
  {
   "cell_type": "markdown",
   "metadata": {},
   "source": [
    "While the model seems to be generally well calibrated, there is an outlier for racial group 5 (Alaska Native), which has 0.05 lower calibration than the next lowest group. This is most likely due to this group having much less data than the other groups, as there were only  19 employed Alaskan natives in the data set. Aside from this group, the model is generally well calibrated as actual employment rates for individuals predicted as employed is fairly consistent, ranging from 0.75 to 0.80. While it is not perfectly calibrated because the values have variance, the level of consistency and a small range indicates that there is no severe calibration bias. "
   ]
  },
  {
   "cell_type": "markdown",
   "metadata": {},
   "source": [
    "### Error Rate Balance \n",
    "\n"
   ]
  },
  {
   "cell_type": "markdown",
   "metadata": {},
   "source": [
    "Error rate balance requires that FPR and FNR be approximately equal across all groups. In my model, there is significant variation in both FNR and FPR across groups. FPR ranges from 0.143 to to 0.336 and FNR ranges between 0.000 and 0.25. This means that some groups are disproportionately classified as false positives or false negatives, and our model does not have balanced error-rates.  "
   ]
  },
  {
   "cell_type": "markdown",
   "metadata": {},
   "source": [
    "### Statistical Parity"
   ]
  },
  {
   "cell_type": "markdown",
   "metadata": {},
   "source": [
    "Now I will check for statistical parity, which is a fairness metric to determine whether different demographic groups receive favorable outcomes at the same rate. The code below checks the proportion of individuals predicted as employed (favorable outcome) within each group by grouping the dataset by Race and computing the mean of the predicted values. This tells us whether the model’s predictions are distributed equally across different groups."
   ]
  },
  {
   "cell_type": "code",
   "execution_count": 402,
   "metadata": {},
   "outputs": [
    {
     "data": {
      "text/plain": [
       "Race\n",
       "1    0.533390\n",
       "2    0.537954\n",
       "3    0.600000\n",
       "5    0.500000\n",
       "6    0.658537\n",
       "7    0.363636\n",
       "8    0.593695\n",
       "9    0.528226\n",
       "Name: Predicted Employment, dtype: float64"
      ]
     },
     "execution_count": 402,
     "metadata": {},
     "output_type": "execute_result"
    }
   ],
   "source": [
    "# Compute the proportion of individuals predicted as employed (y_hat == 1) per group\n",
    "statistical_parity_check = df_results.groupby(\"Race\")[\"Predicted Employment\"].mean()\n",
    "statistical_parity_check"
   ]
  },
  {
   "cell_type": "markdown",
   "metadata": {},
   "source": [
    "A model satisfies statistical parity if each racial group receives the positive prediction at the same rate. Looking at our values from above, the predicted employment rates range from 0.363 (group 7) to 0.658 (group 6), with significant variation among all racial groups. Thus, my model does not achieve statistical parity. "
   ]
  },
  {
   "cell_type": "markdown",
   "metadata": {},
   "source": [
    "# Feasible FNR and FPR Rates\n",
    "\n",
    "Alexandra Chouldechova's work on fair predictions provides us with the equation\n",
    "$$\n",
    "  FPR = \\frac{1}{1-p}\\frac{1-PPV}{PPV}(1-FNR)\n",
    "$$"
   ]
  },
  {
   "cell_type": "markdown",
   "metadata": {},
   "source": [
    "Now I will calculate feasible false positive rates for each group using the above equation by factoring in the prevelance (p). The code computes the prevalence for each group by averaging the true employment rates and then merges this dataframe with our previous results from above. Then, using the equation from above, it calculates a feasible FPR for each group."
   ]
  },
  {
   "cell_type": "code",
   "execution_count": 431,
   "metadata": {},
   "outputs": [
    {
     "data": {
      "text/html": [
       "<div>\n",
       "<style scoped>\n",
       "    .dataframe tbody tr th:only-of-type {\n",
       "        vertical-align: middle;\n",
       "    }\n",
       "\n",
       "    .dataframe tbody tr th {\n",
       "        vertical-align: top;\n",
       "    }\n",
       "\n",
       "    .dataframe thead th {\n",
       "        text-align: right;\n",
       "    }\n",
       "</style>\n",
       "<table border=\"1\" class=\"dataframe\">\n",
       "  <thead>\n",
       "    <tr style=\"text-align: right;\">\n",
       "      <th></th>\n",
       "      <th>race</th>\n",
       "      <th>Accuracy</th>\n",
       "      <th>PPV</th>\n",
       "      <th>FNR</th>\n",
       "      <th>FPR</th>\n",
       "      <th>Prevalence</th>\n",
       "      <th>Feasible_FPR</th>\n",
       "    </tr>\n",
       "  </thead>\n",
       "  <tbody>\n",
       "    <tr>\n",
       "      <th>0</th>\n",
       "      <td>1</td>\n",
       "      <td>0.827839</td>\n",
       "      <td>0.801902</td>\n",
       "      <td>0.134550</td>\n",
       "      <td>0.208914</td>\n",
       "      <td>0.494224</td>\n",
       "      <td>0.208914</td>\n",
       "    </tr>\n",
       "    <tr>\n",
       "      <th>1</th>\n",
       "      <td>2</td>\n",
       "      <td>0.814081</td>\n",
       "      <td>0.770961</td>\n",
       "      <td>0.131336</td>\n",
       "      <td>0.235789</td>\n",
       "      <td>0.477448</td>\n",
       "      <td>0.235789</td>\n",
       "    </tr>\n",
       "    <tr>\n",
       "      <th>2</th>\n",
       "      <td>3</td>\n",
       "      <td>0.822222</td>\n",
       "      <td>0.777778</td>\n",
       "      <td>0.086957</td>\n",
       "      <td>0.272727</td>\n",
       "      <td>0.511111</td>\n",
       "      <td>0.272727</td>\n",
       "    </tr>\n",
       "    <tr>\n",
       "      <th>3</th>\n",
       "      <td>5</td>\n",
       "      <td>0.850000</td>\n",
       "      <td>0.700000</td>\n",
       "      <td>0.000000</td>\n",
       "      <td>0.230769</td>\n",
       "      <td>0.350000</td>\n",
       "      <td>0.230769</td>\n",
       "    </tr>\n",
       "    <tr>\n",
       "      <th>4</th>\n",
       "      <td>6</td>\n",
       "      <td>0.806999</td>\n",
       "      <td>0.768116</td>\n",
       "      <td>0.073786</td>\n",
       "      <td>0.336449</td>\n",
       "      <td>0.546129</td>\n",
       "      <td>0.336449</td>\n",
       "    </tr>\n",
       "    <tr>\n",
       "      <th>5</th>\n",
       "      <td>7</td>\n",
       "      <td>0.818182</td>\n",
       "      <td>0.750000</td>\n",
       "      <td>0.250000</td>\n",
       "      <td>0.142857</td>\n",
       "      <td>0.363636</td>\n",
       "      <td>0.142857</td>\n",
       "    </tr>\n",
       "    <tr>\n",
       "      <th>6</th>\n",
       "      <td>8</td>\n",
       "      <td>0.838879</td>\n",
       "      <td>0.808260</td>\n",
       "      <td>0.089701</td>\n",
       "      <td>0.240741</td>\n",
       "      <td>0.527145</td>\n",
       "      <td>0.240741</td>\n",
       "    </tr>\n",
       "    <tr>\n",
       "      <th>7</th>\n",
       "      <td>9</td>\n",
       "      <td>0.860887</td>\n",
       "      <td>0.803435</td>\n",
       "      <td>0.076754</td>\n",
       "      <td>0.192164</td>\n",
       "      <td>0.459677</td>\n",
       "      <td>0.192164</td>\n",
       "    </tr>\n",
       "  </tbody>\n",
       "</table>\n",
       "</div>"
      ],
      "text/plain": [
       "   race  Accuracy       PPV       FNR       FPR  Prevalence  Feasible_FPR\n",
       "0     1  0.827839  0.801902  0.134550  0.208914    0.494224      0.208914\n",
       "1     2  0.814081  0.770961  0.131336  0.235789    0.477448      0.235789\n",
       "2     3  0.822222  0.777778  0.086957  0.272727    0.511111      0.272727\n",
       "3     5  0.850000  0.700000  0.000000  0.230769    0.350000      0.230769\n",
       "4     6  0.806999  0.768116  0.073786  0.336449    0.546129      0.336449\n",
       "5     7  0.818182  0.750000  0.250000  0.142857    0.363636      0.142857\n",
       "6     8  0.838879  0.808260  0.089701  0.240741    0.527145      0.240741\n",
       "7     9  0.860887  0.803435  0.076754  0.192164    0.459677      0.192164"
      ]
     },
     "execution_count": 431,
     "metadata": {},
     "output_type": "execute_result"
    }
   ],
   "source": [
    "import pandas as pd\n",
    "\n",
    "# Assuming results_df already contains 'group', 'PPV', 'FNR', and 'FPR'\n",
    "# Compute prevalence (p) for each group using y_test from df_results (individual-level data)\n",
    "prevalence = df_results.groupby(\"race\")[\"true_employment\"].mean().reset_index()\n",
    "prevalence.columns = [\"race\", \"Prevalence\"]\n",
    "\n",
    "# Merge prevalence into results_df\n",
    "results_df = results_df.merge(prevalence, on=\"race\", how=\"left\")\n",
    "\n",
    "# Compute Feasible FPR using Equation (2.6)\n",
    "results_df[\"Feasible_FPR\"] = (results_df[\"Prevalence\"] / (1 - results_df[\"Prevalence\"])) * \\\n",
    "                             ((1 - results_df[\"PPV\"]) / results_df[\"PPV\"]) * \\\n",
    "                             (1 - results_df[\"FNR\"])\n",
    "\n",
    "results_df"
   ]
  },
  {
   "cell_type": "markdown",
   "metadata": {},
   "source": [
    "Now I will recreate Chouldechova’s figure 5 from the reading by plotting the observed false negative rates (FNR) and false positive rates (FPR) for each group with the theoretically feasible FNR-FPR tradeoff lines derived from Equation 2.6. The tradeoff lines are calculated using the prevalence-adjusted feasible FPR values, showing the relationship between error rates across groups."
   ]
  },
  {
   "cell_type": "code",
   "execution_count": 433,
   "metadata": {},
   "outputs": [
    {
     "data": {
      "image/png": "[encoded data removed]",
      "text/plain": [
       "<Figure size 700x500 with 1 Axes>"
      ]
     },
     "metadata": {},
     "output_type": "display_data"
    }
   ],
   "source": [
    "import matplotlib.pyplot as plt\n",
    "import numpy as np\n",
    "import pandas as pd\n",
    "\n",
    "# Extract observed values from results_df\n",
    "groups = results_df[\"race\"]\n",
    "FNR = results_df[\"FNR\"]\n",
    "FPR = results_df[\"FPR\"]\n",
    "Feasible_FPR = results_df[\"Feasible_FPR\"]  # Precomputed from the equation\n",
    "\n",
    "# Define colors for each group\n",
    "colors = plt.cm.tab10(np.linspace(0, 1, len(groups)))  # Using tab10 colormap\n",
    "\n",
    "# Generate feasible FNR-FPR tradeoff line using equation\n",
    "fnr_range = np.linspace(0, 1, 100)\n",
    "\n",
    "# Compute target FPR (equalizing across all groups)\n",
    "target_fpr = np.mean(FPR)\n",
    "\n",
    "# Define prevalence (p) and positive predictive value (PPV) - Assumed fixed\n",
    "p = 0.5  # Example prevalence\n",
    "ppv = 0.6  # Example PPV\n",
    "\n",
    "# Compute required FNR adjustments using Equation (2.6)\n",
    "Required_FNR_Adjustment = 1 - (target_fpr * (1 - p) * ppv) / (p * (1 - ppv)) - FNR\n",
    "\n",
    "# Store adjustments back into results_df\n",
    "results_df[\"Required_FNR_Adjustment\"] = Required_FNR_Adjustment\n",
    "\n",
    "# Create figure\n",
    "plt.figure(figsize=(7, 5))\n",
    "\n",
    "# Plot feasible tradeoff lines and corresponding observed points\n",
    "for i, group in enumerate(groups):\n",
    "    color = colors[i]  # Assign color to group\n",
    "    plt.plot(fnr_range, Feasible_FPR[i] * (1 - fnr_range), color=color, label=f\"Feasible for Group {group}\")\n",
    "    plt.scatter(FNR[i], FPR[i], color=color, edgecolors=\"black\", s=50, zorder=3)  # Matching color with a black outline\n",
    "\n",
    "# Labels and styling\n",
    "plt.xlabel(\"False Negative Rate (FNR)\")\n",
    "plt.ylabel(\"False Positive Rate (FPR)\")\n",
    "plt.title(\"Feasible (FNR, FPR) Combinations with Prevalence Constraint\")\n",
    "plt.legend()\n",
    "plt.grid(True, linestyle=\"--\", alpha=0.6)\n",
    "\n",
    "# Show plot\n",
    "plt.show()\n"
   ]
  },
  {
   "cell_type": "code",
   "execution_count": 434,
   "metadata": {},
   "outputs": [
    {
     "data": {
      "text/plain": [
       "0    0.516623\n",
       "1    0.519837\n",
       "2    0.564217\n",
       "3    0.651173\n",
       "4    0.577387\n",
       "5    0.401173\n",
       "6    0.561472\n",
       "7    0.574419\n",
       "Name: Required_FNR_Adjustment, dtype: float64"
      ]
     },
     "execution_count": 434,
     "metadata": {},
     "output_type": "execute_result"
    }
   ],
   "source": [
    "results_df[\"Required_FNR_Adjustment\"]"
   ]
  },
  {
   "cell_type": "markdown",
   "metadata": {},
   "source": [
    "By analyzing the relationship between false negative rates (FNR) and false positive rates (FPR) through the lens of equation (2.6), we gain a clearer picture of how the model’s predictive fairness varies across different groups. The plot juxtaposes actual FNR-FPR values with theoretically feasible ones under fixed prevalence and positive predictive value (PPV), revealing where disparities exist. While some groups align closely with the expected trade-offs, others display noticeable deviations, indicating imbalances in error distribution. Achieving fairness by equalizing FPR across all groups requires altering FNR values, as indicated by the Required_FNR_Adjustment metric. The degree of necessary modification varies, with certain groups needing only minor shifts while others require substantial recalibration. For instance, Group 3 exhibits the most significant adjustment, suggesting that its current FNR is considerably lower than what would be necessary for parity. Conversely, Group 5 requires minimal changes, implying it is already near the target threshold. These discrepancies highlight the challenge of enforcing fairness constraints while preserving model accuracy."
   ]
  },
  {
   "cell_type": "markdown",
   "metadata": {},
   "source": [
    "# Concluding Discussion"
   ]
  },
  {
   "cell_type": "markdown",
   "metadata": {},
   "source": [
    "The ability to predict employment status based on demographic features presents significant opportunities for companies and government agencies seeking to improve hiring decisions, workforce planning, and policy implementation. Businesses in recruitment, human resources, and economic forecasting could leverage such a model to streamline hiring processes or assess labor market trends. However, the deployment of such a system requires careful consideration of ethical and fairness concerns.\n",
    "\n",
    "The bias audit conducted in this project revealed disparities in the model's predictions across racial groups, suggesting that certain demographic segments might be disproportionately misclassified. This raises concerns about the potential reinforcement of existing societal inequalities if the model is applied at scale without proper fairness interventions. In this model there were calibration disparities, higher error rates for certain groups, and a lack of statistical parity across groups.\n",
    "\n",
    "Beyond bias, additional concerns arise when deploying predictive models in high-stakes scenarios. The risk of automation bias, where decision-makers over-rely on model predictions without critical assessment, can exacerbate discriminatory outcomes. Additionally, the model’s reliance on historical data means that it may inherit and perpetuate past biases embedded in employment practices.\n",
    "\n",
    "To address these challenges, future improvements should include fairness-aware training techniques, such as reweighting methods,  or post-processing corrections. Moreover, continuous monitoring and auditing should be implemented to assess model performance across demographic groups regularly. Transparent reporting and explainability techniques should also be adopted to ensure that stakeholders understand the basis of predictions and can intervene where necessary.\n",
    "\n",
    "Ultimately, while machine learning models offer powerful tools for employment status prediction, their real-world application must be guided by ethical considerations and fairness audits, to prevent harmful unintended consequences. "
   ]
  }
 ],
 "metadata": {
  "kernelspec": {
   "display_name": "ml-0451",
   "language": "python",
   "name": "python3"
  },
  "language_info": {
   "codemirror_mode": {
    "name": "ipython",
    "version": 3
   },
   "file_extension": ".py",
   "mimetype": "text/x-python",
   "name": "python",
   "nbconvert_exporter": "python",
   "pygments_lexer": "ipython3",
   "version": "3.9.21"
  }
 },
 "nbformat": 4,
 "nbformat_minor": 2
}
