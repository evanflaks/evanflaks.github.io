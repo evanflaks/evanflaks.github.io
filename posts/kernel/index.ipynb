{
 "cells": [
  {
   "cell_type": "markdown",
   "metadata": {},
   "source": [
    "---\n",
    "title: Sparse Kernelized Logistic Regression\n",
    "author: Evan Flaks\n",
    "date: '2025-04-16'\n",
    "image: \"kernel.jpeg\"\n",
    "description: \"Implementing Kernelized Logistic Regression and Performing Various Data Experiments\"\n",
    "format: html\n",
    "---"
   ]
  },
  {
   "cell_type": "markdown",
   "metadata": {},
   "source": [
    "# Implementation"
   ]
  },
  {
   "cell_type": "code",
   "execution_count": null,
   "metadata": {},
   "outputs": [],
   "source": []
  }
 ],
 "metadata": {
  "language_info": {
   "name": "python"
  }
 },
 "nbformat": 4,
 "nbformat_minor": 2
}
